{
 "cells": [
  {
   "cell_type": "code",
   "execution_count": 230,
   "metadata": {},
   "outputs": [],
   "source": [
    "#Асанов Ильяс\n",
    "import csv\n",
    "import numpy as np\n",
    "import random\n",
    "import math\n",
    "import operator\n",
    "from sklearn.datasets import load_iris\n",
    "from sklearn.model_selection import train_test_split\n",
    "from sklearn.metrics import accuracy_score"
   ]
  },
  {
   "cell_type": "code",
   "execution_count": 231,
   "metadata": {},
   "outputs": [],
   "source": [
    "#data=load_iris().data\n",
    "#target=load_iris().target.reshape(150,1)"
   ]
  },
  {
   "cell_type": "code",
   "execution_count": 232,
   "metadata": {},
   "outputs": [],
   "source": [
    "def euclidean_distance(instance1, instance2, length):\n",
    "    #вычисляет Евклидово расстояние между двумя точками\n",
    "    distance = 0\n",
    "    for x in range(length):\n",
    "        #формула Евклидова расстояния при n=2\n",
    "        distance += math.sqrt(pow((instance1[x] - instance2[x]), 2))\n",
    "    return distance"
   ]
  },
  {
   "cell_type": "code",
   "execution_count": 233,
   "metadata": {},
   "outputs": [],
   "source": [
    "def get_neighbors(training_set, test_instance, k):\n",
    "    #вычисляет количество соседей при коэффиценте k\n",
    "    #выдаёт массив(лист) neighbors в котором хранятся данные о расстоянии\n",
    "    distances = []\n",
    "    length = len(test_instance) - 1\n",
    "    for x in range(len(training_set)):\n",
    "        dist = euclidean_distance(test_instance, training_set[x], length)\n",
    "        distances.append((training_set[x], dist))\n",
    "    distances.sort(key=operator.itemgetter(1))\n",
    "    neighbors = []\n",
    "    for x in range(k):\n",
    "        neighbors.append(distances[x][0])\n",
    "    return neighbors"
   ]
  },
  {
   "cell_type": "code",
   "execution_count": 234,
   "metadata": {},
   "outputs": [],
   "source": [
    "def get_response(neighbors):\n",
    "    #создаёт словарь class_votes\n",
    "    #пробегает по списку neighbors и записывает новое, либо увеличивет существующее значение в словаре\n",
    "    \n",
    "    class_votes = {}\n",
    "    for x in range(len(neighbors)):\n",
    "        response = neighbors[x][-1]\n",
    "        if response in class_votes:\n",
    "            class_votes[response] += 1\n",
    "        else:\n",
    "            class_votes[response] = 1\n",
    "    #вызывает элемент с индексом 1 из словаря class_votes\n",
    "    sorted_votes = sorted(class_votes.items(), key=operator.itemgetter(1), reverse=True)\n",
    "    return sorted_votes[0][0]"
   ]
  },
  {
   "cell_type": "code",
   "execution_count": 235,
   "metadata": {},
   "outputs": [
    {
     "name": "stdout",
     "output_type": "stream",
     "text": [
      "Train set: 112\n",
      "Test set: 38\n",
      "> predicted=2.0, actual=1.0\n",
      "Accuracy: 0.9736842105263158%\n"
     ]
    }
   ],
   "source": [
    "training_set = []\n",
    "test_set = []\n",
    "#загружает датасет iris в качестве списка\n",
    "dataset = list(load_iris())\n",
    "#вызывает data из iris\n",
    "data1=load_iris().data\n",
    "#преобразовывает target из (1,150) в (150,1) для дальнейшего присоединения к data\n",
    "target=load_iris().target.reshape(150,1)\n",
    "dataset=np.c_[data,target]\n",
    "\n",
    "#разбивает данные на тренировочные и тестовые сеты\n",
    "training_set, test_set = train_test_split(dataset, random_state = 10)\n",
    "\n",
    "print('Train set: ' + repr(len(training_set)))\n",
    "print('Test set: ' + repr(len(test_set)))\n",
    "predictions = []\n",
    "\n",
    "#колличество рассматриваемых соседей\n",
    "k = 3\n",
    "for x in range(len(test_set)):\n",
    "    neighbors = get_neighbors(training_set, test_set[x], k)\n",
    "    result = get_response(neighbors)\n",
    "    predictions.append(result)\n",
    "    #в случае неудачного предсказания выводит какой элемент попал не в свой класс\n",
    "    if result !=test_set[x][-1]:\n",
    "        print('> predicted=' + repr(result) + ', actual=' + repr(test_set[x][-1]))\n",
    "\n",
    "#дополнительная переменная для извлечения пятой колоки, которая отвечает за принадлежность к классу\n",
    "test_set_for_metrics=[]\n",
    "for i in range(len(test_set)):\n",
    "    test_set_for_metrics.append(test_set[[i],4])\n",
    "#сравнивает исходные классы с предсказанными для тестового сета\n",
    "accuracy = accuracy_score(test_set_for_metrics, predictions)\n",
    "print('Accuracy: ' + repr(accuracy) + '%')"
   ]
  },
  {
   "cell_type": "code",
   "execution_count": null,
   "metadata": {},
   "outputs": [],
   "source": []
  }
 ],
 "metadata": {
  "kernelspec": {
   "display_name": "Python 3",
   "language": "python",
   "name": "python3"
  },
  "language_info": {
   "codemirror_mode": {
    "name": "ipython",
    "version": 3
   },
   "file_extension": ".py",
   "mimetype": "text/x-python",
   "name": "python",
   "nbconvert_exporter": "python",
   "pygments_lexer": "ipython3",
   "version": "3.7.3"
  }
 },
 "nbformat": 4,
 "nbformat_minor": 4
}
